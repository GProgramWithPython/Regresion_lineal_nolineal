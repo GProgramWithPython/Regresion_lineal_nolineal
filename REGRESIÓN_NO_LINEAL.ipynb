{
 "cells": [
  {
   "cell_type": "markdown",
   "metadata": {},
   "source": [
    "# REGRESIÓN NO-LINEAL PYTHON"
   ]
  },
  {
   "cell_type": "code",
   "execution_count": 1,
   "metadata": {},
   "outputs": [],
   "source": [
    "import pandas as pd\n",
    "import numpy as np"
   ]
  },
  {
   "cell_type": "code",
   "execution_count": 2,
   "metadata": {},
   "outputs": [],
   "source": [
    "#importamos la base de datos del clima, la fecha lleva el nombre del mes-año en el que se registraron los datos\n",
    "data = pd.read_csv('medio_ambiente.csv')"
   ]
  },
  {
   "cell_type": "code",
   "execution_count": 3,
   "metadata": {},
   "outputs": [
    {
     "data": {
      "text/html": [
       "<div>\n",
       "<style scoped>\n",
       "    .dataframe tbody tr th:only-of-type {\n",
       "        vertical-align: middle;\n",
       "    }\n",
       "\n",
       "    .dataframe tbody tr th {\n",
       "        vertical-align: top;\n",
       "    }\n",
       "\n",
       "    .dataframe thead th {\n",
       "        text-align: right;\n",
       "    }\n",
       "</style>\n",
       "<table border=\"1\" class=\"dataframe\">\n",
       "  <thead>\n",
       "    <tr style=\"text-align: right;\">\n",
       "      <th></th>\n",
       "      <th>AÑO / MES / DÍA</th>\n",
       "      <th>HORA</th>\n",
       "      <th>TEMPERATURA (°C)</th>\n",
       "      <th>PRECIPITACIÓN (mm/hora)</th>\n",
       "      <th>HUMEDAD (%)</th>\n",
       "      <th>DIRECCION DEL VIENTO (°)</th>\n",
       "      <th>VELOCIDAD DEL VIENTO (m/s)</th>\n",
       "    </tr>\n",
       "  </thead>\n",
       "  <tbody>\n",
       "    <tr>\n",
       "      <th>0</th>\n",
       "      <td>2021/08/01</td>\n",
       "      <td>00:00</td>\n",
       "      <td>15.6</td>\n",
       "      <td>0.0</td>\n",
       "      <td>91</td>\n",
       "      <td>229</td>\n",
       "      <td>0.8</td>\n",
       "    </tr>\n",
       "    <tr>\n",
       "      <th>1</th>\n",
       "      <td>2021/08/01</td>\n",
       "      <td>01:00</td>\n",
       "      <td>15.7</td>\n",
       "      <td>0.0</td>\n",
       "      <td>90</td>\n",
       "      <td>210</td>\n",
       "      <td>1.5</td>\n",
       "    </tr>\n",
       "    <tr>\n",
       "      <th>2</th>\n",
       "      <td>2021/08/01</td>\n",
       "      <td>02:00</td>\n",
       "      <td>15.7</td>\n",
       "      <td>0.0</td>\n",
       "      <td>90</td>\n",
       "      <td>209</td>\n",
       "      <td>1.7</td>\n",
       "    </tr>\n",
       "    <tr>\n",
       "      <th>3</th>\n",
       "      <td>2021/08/01</td>\n",
       "      <td>03:00</td>\n",
       "      <td>15.3</td>\n",
       "      <td>0.0</td>\n",
       "      <td>90</td>\n",
       "      <td>209</td>\n",
       "      <td>2.3</td>\n",
       "    </tr>\n",
       "    <tr>\n",
       "      <th>4</th>\n",
       "      <td>2021/08/01</td>\n",
       "      <td>04:00</td>\n",
       "      <td>15.0</td>\n",
       "      <td>0.0</td>\n",
       "      <td>91</td>\n",
       "      <td>207</td>\n",
       "      <td>1.7</td>\n",
       "    </tr>\n",
       "  </tbody>\n",
       "</table>\n",
       "</div>"
      ],
      "text/plain": [
       "  AÑO / MES / DÍA   HORA  TEMPERATURA (°C)  PRECIPITACIÓN (mm/hora)  \\\n",
       "0      2021/08/01  00:00              15.6                      0.0   \n",
       "1      2021/08/01  01:00              15.7                      0.0   \n",
       "2      2021/08/01  02:00              15.7                      0.0   \n",
       "3      2021/08/01  03:00              15.3                      0.0   \n",
       "4      2021/08/01  04:00              15.0                      0.0   \n",
       "\n",
       "   HUMEDAD (%)  DIRECCION DEL VIENTO (°)  VELOCIDAD DEL VIENTO (m/s)  \n",
       "0           91                       229                         0.8  \n",
       "1           90                       210                         1.5  \n",
       "2           90                       209                         1.7  \n",
       "3           90                       209                         2.3  \n",
       "4           91                       207                         1.7  "
      ]
     },
     "execution_count": 3,
     "metadata": {},
     "output_type": "execute_result"
    }
   ],
   "source": [
    "data.head()"
   ]
  },
  {
   "cell_type": "code",
   "execution_count": 4,
   "metadata": {},
   "outputs": [
    {
     "data": {
      "text/plain": [
       "<AxesSubplot:xlabel='HUMEDAD (%)', ylabel='TEMPERATURA (°C)'>"
      ]
     },
     "execution_count": 4,
     "metadata": {},
     "output_type": "execute_result"
    },
    {
     "data": {
      "image/png": "[encoded data removed]",
      "text/plain": [
       "<Figure size 432x288 with 1 Axes>"
      ]
     },
     "metadata": {
      "needs_background": "light"
     },
     "output_type": "display_data"
    }
   ],
   "source": [
    "#visualizamos el tipo de tendencia que tienen los datos\n",
    "import matplotlib.pyplot as plt\n",
    "%matplotlib inline\n",
    "data.plot(kind='scatter',x='HUMEDAD (%)',y='TEMPERATURA (°C)')"
   ]
  },
  {
   "cell_type": "code",
   "execution_count": 5,
   "metadata": {},
   "outputs": [],
   "source": [
    "from sklearn.preprocessing import PolynomialFeatures\n",
    "from sklearn import linear_model"
   ]
  },
  {
   "cell_type": "code",
   "execution_count": 6,
   "metadata": {},
   "outputs": [
    {
     "name": "stderr",
     "output_type": "stream",
     "text": [
      "/opt/anaconda3/lib/python3.7/site-packages/ipykernel_launcher.py:4: FutureWarning: Support for multi-dimensional indexing (e.g. `obj[:, None]`) is deprecated and will be removed in a future version.  Convert to a numpy array before indexing instead.\n",
      "  after removing the cwd from sys.path.\n"
     ]
    }
   ],
   "source": [
    "#definimos las variables \n",
    "X = data['HUMEDAD (%)']\n",
    "Y = data['TEMPERATURA (°C)']\n",
    "X_data = X[:,np.newaxis] #cambiamos el tipo de los datos para su posterior análisis"
   ]
  },
  {
   "cell_type": "code",
   "execution_count": 7,
   "metadata": {},
   "outputs": [
    {
     "name": "stdout",
     "output_type": "stream",
     "text": [
      "tipo de dato de X:  <class 'pandas.core.series.Series'>\n",
      "Tipo de dato de X_data:  <class 'numpy.ndarray'>\n"
     ]
    }
   ],
   "source": [
    "print('tipo de dato de X: ',type(X))\n",
    "print('Tipo de dato de X_data: ',type(X_data)) # que es lo que vamos a necesitar para que nuetra funcion trabaje correctamente"
   ]
  },
  {
   "cell_type": "code",
   "execution_count": 8,
   "metadata": {},
   "outputs": [
    {
     "data": {
      "text/plain": [
       "LinearRegression(copy_X=True, fit_intercept=True, n_jobs=None,\n",
       "         normalize=False)"
      ]
     },
     "execution_count": 8,
     "metadata": {},
     "output_type": "execute_result"
    }
   ],
   "source": [
    "#ajustamos la función con el método, analizando los datos con un polinomio de grado 2.\n",
    "poly = PolynomialFeatures(degree=2)\n",
    "X_new = poly.fit_transform(X_data)\n",
    "lm = linear_model.LinearRegression()\n",
    "lm.fit(X_new, Y)"
   ]
  },
  {
   "cell_type": "code",
   "execution_count": 9,
   "metadata": {},
   "outputs": [
    {
     "data": {
      "text/plain": [
       "0.7915454058670611"
      ]
     },
     "execution_count": 9,
     "metadata": {},
     "output_type": "execute_result"
    }
   ],
   "source": [
    "lm.score(X_new,Y) # coeficiente de correlación"
   ]
  },
  {
   "cell_type": "code",
   "execution_count": 10,
   "metadata": {},
   "outputs": [
    {
     "data": {
      "text/plain": [
       "61.180225912612904"
      ]
     },
     "execution_count": 10,
     "metadata": {},
     "output_type": "execute_result"
    }
   ],
   "source": [
    "lm.intercept_ # valor de intersección"
   ]
  },
  {
   "cell_type": "code",
   "execution_count": 11,
   "metadata": {},
   "outputs": [
    {
     "data": {
      "text/plain": [
       "array([ 0.        , -0.9226568 ,  0.00459481])"
      ]
     },
     "execution_count": 11,
     "metadata": {},
     "output_type": "execute_result"
    }
   ],
   "source": [
    "lm.coef_ #coeficiente multiplicado a la variable"
   ]
  },
  {
   "cell_type": "markdown",
   "metadata": {},
   "source": [
    "Entonces vemos que el modelo se traduce en: Temperatura = 61.180225 - 0.9226568*humedad + 0.00459481*humedad^2"
   ]
  },
  {
   "cell_type": "code",
   "execution_count": 12,
   "metadata": {},
   "outputs": [],
   "source": [
    "# ajuste de la función con polinomios de grado a definir\n",
    "def regresion_validation(X,Y,Y_pred):\n",
    "    SSD = np.sum((Y-Y_pred)**2)\n",
    "    RSE = np.sqrt(SSD/(len(X)-2))\n",
    "    y_mean = np.mean(Y)\n",
    "    error = RSE/y_mean\n",
    "    print('error: '+str(error*100)+'%')\n",
    "    print('-----------------------------------')"
   ]
  },
  {
   "cell_type": "code",
   "execution_count": 13,
   "metadata": {},
   "outputs": [
    {
     "name": "stdout",
     "output_type": "stream",
     "text": [
      "Regresion de grado 1\n",
      "R-cuadrado = 0.754004761273671\n",
      "Interseccion = 28.33691569328881\n",
      "Coeficientes = [ 0.         -0.14391502]\n",
      "error: 2.8971751084000843%\n",
      "-----------------------------------\n",
      "Regresion de grado 2\n",
      "R-cuadrado = 0.7915454058670611\n",
      "Interseccion = 61.180225912612904\n",
      "Coeficientes = [ 0.         -0.9226568   0.00459481]\n",
      "error: 2.666963856526274%\n",
      "-----------------------------------\n",
      "Regresion de grado 3\n",
      "R-cuadrado = 0.793550329221131\n",
      "Interseccion = 154.73801772566307\n",
      "Coeficientes = [ 0.00000000e+00 -4.28894038e+00  4.48040024e-02 -1.59464763e-04]\n",
      "error: 2.654107393963697%\n",
      "-----------------------------------\n",
      "Regresion de grado 4\n",
      "R-cuadrado = 0.7938670245126902\n",
      "Interseccion = -322.88578225289194\n",
      "Coeficientes = [ 0.00000000e+00  1.87753857e+01 -3.71523096e-01  3.17005253e-03\n",
      " -9.95456320e-06]\n",
      "error: 2.6520709026746725%\n",
      "-----------------------------------\n",
      "Regresion de grado 5\n",
      "R-cuadrado = 0.7942103178754686\n",
      "Interseccion = 6039.724711721299\n",
      "Coeficientes = [ 0.00000000e+00 -3.66592540e+02  8.94101440e+00 -1.09067094e-01\n",
      "  6.64722805e-04 -1.61827465e-06]\n",
      "error: 2.649861606193164%\n",
      "-----------------------------------\n",
      "Regresion de grado 6\n",
      "R-cuadrado = 0.7942764648733945\n",
      "Interseccion = 1103.442380363826\n",
      "Coeficientes = [ 0.00000000e+00 -7.16644914e-02 -2.36922641e+00  7.65998680e-02\n",
      " -1.04536264e-03  6.76099380e-06 -1.70647310e-08]\n",
      "error: 2.649435699326207%\n",
      "-----------------------------------\n",
      "Regresion de grado 7\n",
      "R-cuadrado = 0.7943488099922675\n",
      "Interseccion = 363.1850248116884\n",
      "Coeficientes = [ 0.00000000e+00 -1.50713817e-05 -8.30239867e-04 -2.06356806e-02\n",
      "  7.45844602e-04 -1.07912608e-05  7.22906143e-08 -1.86691132e-10]\n",
      "error: 2.6489698056341093%\n",
      "-----------------------------------\n",
      "Regresion de grado 8\n",
      "R-cuadrado = 0.794427825412419\n",
      "Interseccion = 166.2473299140824\n",
      "Coeficientes = [ 0.00000000e+00 -3.61864075e-09 -2.22479728e-07 -9.22408774e-06\n",
      " -2.04234762e-04  7.82161802e-06 -1.17127000e-07  8.02180669e-10\n",
      " -2.10285499e-12]\n",
      "error: 2.6484608623810533%\n",
      "-----------------------------------\n",
      "Regresion de grado 9\n",
      "R-cuadrado = 0.7945139439815166\n",
      "Interseccion = 95.31820077359082\n",
      "Coeficientes = [ 0.00000000e+00 -1.86295110e-11 -5.31009791e-11 -2.83068083e-09\n",
      " -1.04553307e-07 -2.17501991e-06  8.61871452e-08 -1.31884152e-09\n",
      "  9.16323461e-12 -2.42581198e-14]\n",
      "error: 2.64790605589445%\n",
      "-----------------------------------\n"
     ]
    }
   ],
   "source": [
    "#se define el grado de los polinomios del grado 1 al grado 9\n",
    "for d in range(1,10):\n",
    "    poly = PolynomialFeatures(degree=d)\n",
    "    X_new = poly.fit_transform(X_data)\n",
    "    lm = linear_model.LinearRegression()\n",
    "    lm.fit(X_new, Y)\n",
    "    print('Regresion de grado '+str(d))\n",
    "    print('R-cuadrado = '+str(lm.score(X_new,Y)))\n",
    "    print('Interseccion = '+str(lm.intercept_))\n",
    "    print('Coeficientes = '+str(lm.coef_))\n",
    "    regresion_validation(X_new,Y,lm.predict(X_new))"
   ]
  },
  {
   "cell_type": "code",
   "execution_count": 14,
   "metadata": {},
   "outputs": [
    {
     "data": {
      "text/plain": [
       "LinearRegression(copy_X=True, fit_intercept=True, n_jobs=None,\n",
       "         normalize=False)"
      ]
     },
     "execution_count": 14,
     "metadata": {},
     "output_type": "execute_result"
    }
   ],
   "source": [
    "#grado que podría ser considerado el mejor\n",
    "poly = PolynomialFeatures(degree=8)\n",
    "X_new = poly.fit_transform(X_data)\n",
    "lm = linear_model.LinearRegression()\n",
    "lm.fit(X_new, Y)"
   ]
  },
  {
   "cell_type": "code",
   "execution_count": 15,
   "metadata": {},
   "outputs": [
    {
     "data": {
      "text/plain": [
       "[<matplotlib.lines.Line2D at 0x7fcd72c3f910>]"
      ]
     },
     "execution_count": 15,
     "metadata": {},
     "output_type": "execute_result"
    },
    {
     "data": {
      "image/png": "[encoded data removed]",
      "text/plain": [
       "<Figure size 432x288 with 1 Axes>"
      ]
     },
     "metadata": {
      "needs_background": "light"
     },
     "output_type": "display_data"
    }
   ],
   "source": [
    "#visualización de la curva ajustada\n",
    "%matplotlib inline\n",
    "plt.plot(X,Y,'ro')\n",
    "plt.plot(X,lm.predict(X_new),color='blue')"
   ]
  }
 ],
 "metadata": {
  "kernelspec": {
   "display_name": "Python 3",
   "language": "python",
   "name": "python3"
  },
  "language_info": {
   "codemirror_mode": {
    "name": "ipython",
    "version": 3
   },
   "file_extension": ".py",
   "mimetype": "text/x-python",
   "name": "python",
   "nbconvert_exporter": "python",
   "pygments_lexer": "ipython3",
   "version": "3.7.7"
  }
 },
 "nbformat": 4,
 "nbformat_minor": 4
}
